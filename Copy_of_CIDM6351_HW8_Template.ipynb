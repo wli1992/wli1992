{
  "nbformat": 4,
  "nbformat_minor": 0,
  "metadata": {
    "colab": {
      "provenance": [],
      "include_colab_link": true
    },
    "kernelspec": {
      "name": "python3",
      "display_name": "Python 3"
    }
  },
  "cells": [
    {
      "cell_type": "markdown",
      "metadata": {
        "id": "view-in-github",
        "colab_type": "text"
      },
      "source": [
        "<a href=\"https://colab.research.google.com/github/wli1992/wli1992/blob/main/Copy_of_CIDM6351_HW8_Template.ipynb\" target=\"_parent\"><img src=\"https://colab.research.google.com/assets/colab-badge.svg\" alt=\"Open In Colab\"/></a>"
      ]
    },
    {
      "cell_type": "markdown",
      "metadata": {
        "id": "lJURtoBh4mQu"
      },
      "source": [
        "<h1  align=\"center\">CIDM6351-Homework8 (10 points)</h1>\n",
        "\n",
        "* **Save a copy to your Google Drive and to answer on your copy**\n",
        "* **Submit the share link of your JupyterNotebook to WTClass**\n",
        "* Please follow the instruction in 'Student Guides' folder if you didn't how to submit the share link to WTClass."
      ]
    },
    {
      "cell_type": "markdown",
      "metadata": {
        "id": "KGHAsL5LXqkY"
      },
      "source": [
        "## Following the instructions to manipulate DataFrames\n",
        "\n"
      ]
    },
    {
      "cell_type": "markdown",
      "metadata": {
        "id": "eW6O5_hwxYF7"
      },
      "source": [
        "## Q1 (2 points): Load the csv file to a dataframe and show it"
      ]
    },
    {
      "cell_type": "code",
      "metadata": {
        "id": "Rw_UnIdwu-bF",
        "colab": {
          "base_uri": "https://localhost:8080/"
        },
        "outputId": "ae9ca291-b6ee-497c-f469-b84caca9014c"
      },
      "source": [
        "# link of the csv file\n",
        "csv = 'https://raw.githubusercontent.com/czwtamu/CIDM6351/main/HW10.csv'\n",
        "\n",
        "import pandas as pd\n",
        "\n",
        "csv_url = 'https://raw.githubusercontent.com/czwtamu/CIDM6351/main/HW10.csv'\n",
        "\n",
        "df = pd.read_csv(csv_url)\n",
        "\n",
        "print(df)\n"
      ],
      "execution_count": null,
      "outputs": [
        {
          "output_type": "stream",
          "name": "stdout",
          "text": [
            "    Name           Phone   ZipCode\n",
            "0  Alice  # 123-456-7890     79119\n",
            "1    Bob  # 123-456-1111     79110\n",
            "2  Cathy  # 123-456-7821       NaN\n",
            "3  David  # 123-456-7822     12378\n",
            "4   Ella  # 123-456-7893       NaN\n",
            "5   Jack  # 123-456-7826  111-90-1\n",
            "6   Tony  # 123-456-7800  {234123}\n"
          ]
        }
      ]
    },
    {
      "cell_type": "code",
      "metadata": {
        "colab": {
          "base_uri": "https://localhost:8080/",
          "height": 263
        },
        "id": "PP0tOCnq1yP_",
        "outputId": "d4351d5f-6bc1-4bb4-84e0-cc64413052de"
      },
      "source": [
        "# sample answer"
      ],
      "execution_count": null,
      "outputs": [
        {
          "output_type": "execute_result",
          "data": {
            "text/html": [
              "<div>\n",
              "<style scoped>\n",
              "    .dataframe tbody tr th:only-of-type {\n",
              "        vertical-align: middle;\n",
              "    }\n",
              "\n",
              "    .dataframe tbody tr th {\n",
              "        vertical-align: top;\n",
              "    }\n",
              "\n",
              "    .dataframe thead th {\n",
              "        text-align: right;\n",
              "    }\n",
              "</style>\n",
              "<table border=\"1\" class=\"dataframe\">\n",
              "  <thead>\n",
              "    <tr style=\"text-align: right;\">\n",
              "      <th></th>\n",
              "      <th>Name</th>\n",
              "      <th>Phone</th>\n",
              "      <th>ZipCode</th>\n",
              "    </tr>\n",
              "  </thead>\n",
              "  <tbody>\n",
              "    <tr>\n",
              "      <th>0</th>\n",
              "      <td>Alice</td>\n",
              "      <td># 123-456-7890</td>\n",
              "      <td>79119</td>\n",
              "    </tr>\n",
              "    <tr>\n",
              "      <th>1</th>\n",
              "      <td>Bob</td>\n",
              "      <td># 123-456-1111</td>\n",
              "      <td>79110</td>\n",
              "    </tr>\n",
              "    <tr>\n",
              "      <th>2</th>\n",
              "      <td>Cathy</td>\n",
              "      <td># 123-456-7821</td>\n",
              "      <td>NaN</td>\n",
              "    </tr>\n",
              "    <tr>\n",
              "      <th>3</th>\n",
              "      <td>David</td>\n",
              "      <td># 123-456-7822</td>\n",
              "      <td>12378</td>\n",
              "    </tr>\n",
              "    <tr>\n",
              "      <th>4</th>\n",
              "      <td>Ella</td>\n",
              "      <td># 123-456-7893</td>\n",
              "      <td>NaN</td>\n",
              "    </tr>\n",
              "    <tr>\n",
              "      <th>5</th>\n",
              "      <td>Jack</td>\n",
              "      <td># 123-456-7826</td>\n",
              "      <td>111-90-1</td>\n",
              "    </tr>\n",
              "    <tr>\n",
              "      <th>6</th>\n",
              "      <td>Tony</td>\n",
              "      <td># 123-456-7800</td>\n",
              "      <td>{234123}</td>\n",
              "    </tr>\n",
              "  </tbody>\n",
              "</table>\n",
              "</div>"
            ],
            "text/plain": [
              "    Name           Phone   ZipCode\n",
              "0  Alice  # 123-456-7890     79119\n",
              "1    Bob  # 123-456-1111     79110\n",
              "2  Cathy  # 123-456-7821       NaN\n",
              "3  David  # 123-456-7822     12378\n",
              "4   Ella  # 123-456-7893       NaN\n",
              "5   Jack  # 123-456-7826  111-90-1\n",
              "6   Tony  # 123-456-7800  {234123}"
            ]
          },
          "metadata": {
            "tags": []
          },
          "execution_count": 22
        }
      ]
    },
    {
      "cell_type": "markdown",
      "metadata": {
        "id": "zzfKu_umzNb0"
      },
      "source": [
        "## Q2(2 point) Remove the rows that contain missing values and show the result\n",
        "\n",
        "Hint: Pandas provides a method called ```.dropna()``` to remove data with NaN values\n"
      ]
    },
    {
      "cell_type": "code",
      "metadata": {
        "id": "-Ql-uFJq7Vs2",
        "colab": {
          "base_uri": "https://localhost:8080/"
        },
        "outputId": "41d9816a-4dba-4673-d850-d5d337323b93"
      },
      "source": [
        "import pandas as pd\n",
        "\n",
        "csv_url = 'https://raw.githubusercontent.com/czwtamu/CIDM6351/main/HW10.csv'\n",
        "\n",
        "df = pd.read_csv(csv_url)\n",
        "\n",
        "df.dropna(inplace=True)\n",
        "\n",
        "print(df)\n"
      ],
      "execution_count": null,
      "outputs": [
        {
          "output_type": "stream",
          "name": "stdout",
          "text": [
            "    Name           Phone   ZipCode\n",
            "0  Alice  # 123-456-7890     79119\n",
            "1    Bob  # 123-456-1111     79110\n",
            "3  David  # 123-456-7822     12378\n",
            "5   Jack  # 123-456-7826  111-90-1\n",
            "6   Tony  # 123-456-7800  {234123}\n"
          ]
        }
      ]
    },
    {
      "cell_type": "code",
      "metadata": {
        "colab": {
          "base_uri": "https://localhost:8080/",
          "height": 202
        },
        "id": "mTPRPQ9Vzbft",
        "outputId": "01354f91-4f21-4dff-d307-1df75cd81555"
      },
      "source": [
        "# sample answer"
      ],
      "execution_count": null,
      "outputs": [
        {
          "output_type": "execute_result",
          "data": {
            "text/html": [
              "<div>\n",
              "<style scoped>\n",
              "    .dataframe tbody tr th:only-of-type {\n",
              "        vertical-align: middle;\n",
              "    }\n",
              "\n",
              "    .dataframe tbody tr th {\n",
              "        vertical-align: top;\n",
              "    }\n",
              "\n",
              "    .dataframe thead th {\n",
              "        text-align: right;\n",
              "    }\n",
              "</style>\n",
              "<table border=\"1\" class=\"dataframe\">\n",
              "  <thead>\n",
              "    <tr style=\"text-align: right;\">\n",
              "      <th></th>\n",
              "      <th>Name</th>\n",
              "      <th>Phone</th>\n",
              "      <th>ZipCode</th>\n",
              "    </tr>\n",
              "  </thead>\n",
              "  <tbody>\n",
              "    <tr>\n",
              "      <th>0</th>\n",
              "      <td>Alice</td>\n",
              "      <td># 123-456-7890</td>\n",
              "      <td>79119</td>\n",
              "    </tr>\n",
              "    <tr>\n",
              "      <th>1</th>\n",
              "      <td>Bob</td>\n",
              "      <td># 123-456-1111</td>\n",
              "      <td>79110</td>\n",
              "    </tr>\n",
              "    <tr>\n",
              "      <th>3</th>\n",
              "      <td>David</td>\n",
              "      <td># 123-456-7822</td>\n",
              "      <td>12378</td>\n",
              "    </tr>\n",
              "    <tr>\n",
              "      <th>5</th>\n",
              "      <td>Jack</td>\n",
              "      <td># 123-456-7826</td>\n",
              "      <td>111-90-1</td>\n",
              "    </tr>\n",
              "    <tr>\n",
              "      <th>6</th>\n",
              "      <td>Tony</td>\n",
              "      <td># 123-456-7800</td>\n",
              "      <td>{234123}</td>\n",
              "    </tr>\n",
              "  </tbody>\n",
              "</table>\n",
              "</div>"
            ],
            "text/plain": [
              "    Name           Phone   ZipCode\n",
              "0  Alice  # 123-456-7890     79119\n",
              "1    Bob  # 123-456-1111     79110\n",
              "3  David  # 123-456-7822     12378\n",
              "5   Jack  # 123-456-7826  111-90-1\n",
              "6   Tony  # 123-456-7800  {234123}"
            ]
          },
          "metadata": {
            "tags": []
          },
          "execution_count": 26
        }
      ]
    },
    {
      "cell_type": "markdown",
      "metadata": {
        "id": "vvdjcyk1cXAY"
      },
      "source": [
        "## Q3 (2 points) remove the ```#``` from Phone numbers"
      ]
    },
    {
      "cell_type": "code",
      "metadata": {
        "id": "Zedsxu_m7X7U",
        "colab": {
          "base_uri": "https://localhost:8080/"
        },
        "outputId": "545f72b7-e002-414c-edf4-11b202cf2668"
      },
      "source": [
        "import pandas as pd\n",
        "\n",
        "csv_url = 'https://raw.githubusercontent.com/czwtamu/CIDM6351/main/HW10.csv'\n",
        "\n",
        "df = pd.read_csv(csv_url)\n",
        "\n",
        "df['Phone'] = df['Phone'].str.replace('#', '')\n",
        "\n",
        "print(df)\n"
      ],
      "execution_count": null,
      "outputs": [
        {
          "output_type": "stream",
          "name": "stdout",
          "text": [
            "    Name          Phone   ZipCode\n",
            "0  Alice   123-456-7890     79119\n",
            "1    Bob   123-456-1111     79110\n",
            "2  Cathy   123-456-7821       NaN\n",
            "3  David   123-456-7822     12378\n",
            "4   Ella   123-456-7893       NaN\n",
            "5   Jack   123-456-7826  111-90-1\n",
            "6   Tony   123-456-7800  {234123}\n"
          ]
        }
      ]
    },
    {
      "cell_type": "code",
      "metadata": {
        "id": "TqFna-SSfR8Z",
        "colab": {
          "base_uri": "https://localhost:8080/",
          "height": 202
        },
        "outputId": "f4e80398-f432-41d1-bffb-de5995f1b549"
      },
      "source": [
        "# sample answer"
      ],
      "execution_count": null,
      "outputs": [
        {
          "output_type": "execute_result",
          "data": {
            "text/html": [
              "<div>\n",
              "<style scoped>\n",
              "    .dataframe tbody tr th:only-of-type {\n",
              "        vertical-align: middle;\n",
              "    }\n",
              "\n",
              "    .dataframe tbody tr th {\n",
              "        vertical-align: top;\n",
              "    }\n",
              "\n",
              "    .dataframe thead th {\n",
              "        text-align: right;\n",
              "    }\n",
              "</style>\n",
              "<table border=\"1\" class=\"dataframe\">\n",
              "  <thead>\n",
              "    <tr style=\"text-align: right;\">\n",
              "      <th></th>\n",
              "      <th>Name</th>\n",
              "      <th>Phone</th>\n",
              "      <th>ZipCode</th>\n",
              "    </tr>\n",
              "  </thead>\n",
              "  <tbody>\n",
              "    <tr>\n",
              "      <th>0</th>\n",
              "      <td>Alice</td>\n",
              "      <td>123-456-7890</td>\n",
              "      <td>79119</td>\n",
              "    </tr>\n",
              "    <tr>\n",
              "      <th>1</th>\n",
              "      <td>Bob</td>\n",
              "      <td>123-456-1111</td>\n",
              "      <td>79110</td>\n",
              "    </tr>\n",
              "    <tr>\n",
              "      <th>3</th>\n",
              "      <td>David</td>\n",
              "      <td>123-456-7822</td>\n",
              "      <td>12378</td>\n",
              "    </tr>\n",
              "    <tr>\n",
              "      <th>5</th>\n",
              "      <td>Jack</td>\n",
              "      <td>123-456-7826</td>\n",
              "      <td>111-90-1</td>\n",
              "    </tr>\n",
              "    <tr>\n",
              "      <th>6</th>\n",
              "      <td>Tony</td>\n",
              "      <td>123-456-7800</td>\n",
              "      <td>{234123}</td>\n",
              "    </tr>\n",
              "  </tbody>\n",
              "</table>\n",
              "</div>"
            ],
            "text/plain": [
              "    Name          Phone   ZipCode\n",
              "0  Alice   123-456-7890     79119\n",
              "1    Bob   123-456-1111     79110\n",
              "3  David   123-456-7822     12378\n",
              "5   Jack   123-456-7826  111-90-1\n",
              "6   Tony   123-456-7800  {234123}"
            ]
          },
          "metadata": {
            "tags": []
          },
          "execution_count": 31
        }
      ]
    },
    {
      "cell_type": "markdown",
      "metadata": {
        "id": "2GCMorsmzMBt"
      },
      "source": [
        "## Q4 (4 point) clean the values of ZipCode and only keep numbers"
      ]
    },
    {
      "cell_type": "code",
      "metadata": {
        "id": "0HBmaJRu7Zqc",
        "colab": {
          "base_uri": "https://localhost:8080/"
        },
        "outputId": "0ceef6f4-222a-4f99-f813-dfcca054f448"
      },
      "source": [
        "import pandas as pd\n",
        "\n",
        "csv_url = 'https://raw.githubusercontent.com/czwtamu/CIDM6351/main/HW10.csv'\n",
        "\n",
        "df = pd.read_csv(csv_url)\n",
        "\n",
        "df['ZipCode'] = df['ZipCode'].str.extract('(\\d+)')\n",
        "\n",
        "print(df)\n"
      ],
      "execution_count": null,
      "outputs": [
        {
          "output_type": "stream",
          "name": "stdout",
          "text": [
            "    Name           Phone ZipCode\n",
            "0  Alice  # 123-456-7890   79119\n",
            "1    Bob  # 123-456-1111   79110\n",
            "2  Cathy  # 123-456-7821     NaN\n",
            "3  David  # 123-456-7822   12378\n",
            "4   Ella  # 123-456-7893     NaN\n",
            "5   Jack  # 123-456-7826     111\n",
            "6   Tony  # 123-456-7800  234123\n"
          ]
        }
      ]
    },
    {
      "cell_type": "code",
      "metadata": {
        "colab": {
          "base_uri": "https://localhost:8080/",
          "height": 202
        },
        "id": "AJrOAtz8zLUb",
        "outputId": "59384e71-4f85-45c7-f340-5dcfd00367dc"
      },
      "source": [
        "# sample answer"
      ],
      "execution_count": null,
      "outputs": [
        {
          "output_type": "execute_result",
          "data": {
            "text/html": [
              "<div>\n",
              "<style scoped>\n",
              "    .dataframe tbody tr th:only-of-type {\n",
              "        vertical-align: middle;\n",
              "    }\n",
              "\n",
              "    .dataframe tbody tr th {\n",
              "        vertical-align: top;\n",
              "    }\n",
              "\n",
              "    .dataframe thead th {\n",
              "        text-align: right;\n",
              "    }\n",
              "</style>\n",
              "<table border=\"1\" class=\"dataframe\">\n",
              "  <thead>\n",
              "    <tr style=\"text-align: right;\">\n",
              "      <th></th>\n",
              "      <th>Name</th>\n",
              "      <th>Phone</th>\n",
              "      <th>ZipCode</th>\n",
              "    </tr>\n",
              "  </thead>\n",
              "  <tbody>\n",
              "    <tr>\n",
              "      <th>0</th>\n",
              "      <td>Alice</td>\n",
              "      <td>123-456-7890</td>\n",
              "      <td>79119</td>\n",
              "    </tr>\n",
              "    <tr>\n",
              "      <th>1</th>\n",
              "      <td>Bob</td>\n",
              "      <td>123-456-1111</td>\n",
              "      <td>79110</td>\n",
              "    </tr>\n",
              "    <tr>\n",
              "      <th>3</th>\n",
              "      <td>David</td>\n",
              "      <td>123-456-7822</td>\n",
              "      <td>12378</td>\n",
              "    </tr>\n",
              "    <tr>\n",
              "      <th>5</th>\n",
              "      <td>Jack</td>\n",
              "      <td>123-456-7826</td>\n",
              "      <td>111901</td>\n",
              "    </tr>\n",
              "    <tr>\n",
              "      <th>6</th>\n",
              "      <td>Tony</td>\n",
              "      <td>123-456-7800</td>\n",
              "      <td>234123</td>\n",
              "    </tr>\n",
              "  </tbody>\n",
              "</table>\n",
              "</div>"
            ],
            "text/plain": [
              "    Name          Phone ZipCode\n",
              "0  Alice   123-456-7890   79119\n",
              "1    Bob   123-456-1111   79110\n",
              "3  David   123-456-7822   12378\n",
              "5   Jack   123-456-7826  111901\n",
              "6   Tony   123-456-7800  234123"
            ]
          },
          "metadata": {
            "tags": []
          },
          "execution_count": 33
        }
      ]
    }
  ]
}